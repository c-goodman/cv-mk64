{
 "cells": [
  {
   "cell_type": "code",
   "execution_count": 79,
   "metadata": {},
   "outputs": [],
   "source": [
    "import cv2 as cv\n",
    "import numpy as np\n",
    "import os\n",
    "from windowcapture import WindowCapture\n",
    "\n",
    "# import win32gui, win32ui, win32con\n",
    "import easyocr\n",
    "import pandas as pd\n",
    "from pywinauto import Desktop\n",
    "import warnings\n",
    "import pyautogui\n",
    "import win32clipboard\n",
    "\n",
    "warnings.filterwarnings(\"ignore\", category=UserWarning)\n",
    "\n",
    "# Initialize easyocr\n",
    "reader = easyocr.Reader(lang_list=[\"en\"])\n",
    "\n",
    "# Initialize WindowCapture class with get_netplay_name function\n",
    "# netplay_name = WindowCapture.get_netplay_name()\n",
    "\n",
    "wincap = WindowCapture(window_name=\"NetPlay\")\n",
    "screenshot = wincap.get_screenshot()\n"
   ]
  },
  {
   "cell_type": "code",
   "execution_count": 67,
   "metadata": {},
   "outputs": [
    {
     "data": {
      "text/plain": [
       "(573, 723, 3)"
      ]
     },
     "execution_count": 67,
     "metadata": {},
     "output_type": "execute_result"
    }
   ],
   "source": [
    "screenshot.shape"
   ]
  },
  {
   "cell_type": "code",
   "execution_count": 80,
   "metadata": {},
   "outputs": [
    {
     "name": "stdout",
     "output_type": "stream",
     "text": [
      "Player Center: Point(x=383, y=133)\n",
      "Mapping Center: Point(x=555, y=132)\n",
      "Player Center Relative to Window Location on Screen: (-859, 434)\n",
      "Mapping Center Relative to Window Location on Screen: (-687, 433)\n"
     ]
    }
   ],
   "source": [
    "player_location = pyautogui.locate(\n",
    "    needleImage=r\"C:\\Users\\Cooper\\cv-mk64\\img\\netplay\\Player.png\",\n",
    "    haystackImage=screenshot,\n",
    ")\n",
    "\n",
    "player_center = pyautogui.center(player_location)\n",
    "\n",
    "mapping_location = pyautogui.locate(\n",
    "    needleImage=r\"C:\\Users\\Cooper\\cv-mk64\\img\\netplay\\Mapping.png\",\n",
    "    haystackImage=screenshot,\n",
    ")\n",
    "\n",
    "mapping_center = pyautogui.center(mapping_location)\n",
    "\n",
    "print(f\"Player Center: {player_center}\")\n",
    "print(f\"Mapping Center: {mapping_center}\")\n",
    "\n",
    "player_screen_center = wincap.get_screen_position(player_center)\n",
    "mapping_screen_center = wincap.get_screen_position(mapping_center)\n",
    "\n",
    "print(f\"Player Center Relative to Window Location on Screen: {player_screen_center}\")\n",
    "print(f\"Mapping Center Relative to Window Location on Screen: {mapping_screen_center}\")\n"
   ]
  },
  {
   "cell_type": "code",
   "execution_count": 81,
   "metadata": {},
   "outputs": [],
   "source": [
    "pyautogui.FAILSAFE = False"
   ]
  },
  {
   "cell_type": "code",
   "execution_count": 70,
   "metadata": {},
   "outputs": [
    {
     "data": {
      "text/plain": [
       "-1147"
      ]
     },
     "execution_count": 70,
     "metadata": {},
     "output_type": "execute_result"
    }
   ],
   "source": [
    "player_screen_center[0]"
   ]
  },
  {
   "cell_type": "code",
   "execution_count": 83,
   "metadata": {},
   "outputs": [],
   "source": [
    "def copy_paste():\n",
    "    pyautogui.hotkey(\"ctrl\", \"c\")\n",
    "    win32clipboard.OpenClipboard()\n",
    "    data = win32clipboard.GetClipboardData()\n",
    "    win32clipboard.CloseClipboard()\n",
    "\n",
    "    return data"
   ]
  },
  {
   "cell_type": "code",
   "execution_count": 85,
   "metadata": {},
   "outputs": [
    {
     "name": "stdout",
     "output_type": "stream",
     "text": [
      "COOPER\n",
      "Blake\n"
     ]
    }
   ],
   "source": [
    "pyautogui.click(player_screen_center[0], player_screen_center[1])\n",
    "pyautogui.move(0, 25)\n",
    "pyautogui.click()\n",
    "player_one = copy_paste()\n",
    "print(player_one)\n",
    "\n",
    "pyautogui.move(0, 25)\n",
    "pyautogui.click()\n",
    "player_two = copy_paste()\n",
    "\n",
    "print(player_two)"
   ]
  },
  {
   "cell_type": "code",
   "execution_count": 72,
   "metadata": {},
   "outputs": [
    {
     "data": {
      "text/plain": [
       "'COOPER'"
      ]
     },
     "execution_count": 72,
     "metadata": {},
     "output_type": "execute_result"
    }
   ],
   "source": [
    "data"
   ]
  },
  {
   "cell_type": "code",
   "execution_count": null,
   "metadata": {},
   "outputs": [],
   "source": [
    "pyautogui.move(0, 110)"
   ]
  },
  {
   "cell_type": "code",
   "execution_count": null,
   "metadata": {},
   "outputs": [],
   "source": [
    "\n",
    "pyautogui.click(button_center.x, button_center.y, button=\"left\")\n",
    "pyautogui.move(0, 110)\n",
    "pyautogui.click()"
   ]
  }
 ],
 "metadata": {
  "kernelspec": {
   "display_name": "mkcode",
   "language": "python",
   "name": "python3"
  },
  "language_info": {
   "codemirror_mode": {
    "name": "ipython",
    "version": 3
   },
   "file_extension": ".py",
   "mimetype": "text/x-python",
   "name": "python",
   "nbconvert_exporter": "python",
   "pygments_lexer": "ipython3",
   "version": "3.10.4"
  },
  "orig_nbformat": 4,
  "vscode": {
   "interpreter": {
    "hash": "aecd85e568ac1d1fb8e677d72b8b9dd6e59f1e0f47203141c14a0b68f12c32a4"
   }
  }
 },
 "nbformat": 4,
 "nbformat_minor": 2
}
