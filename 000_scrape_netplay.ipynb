{
 "cells": [
  {
   "cell_type": "code",
   "execution_count": 1,
   "metadata": {},
   "outputs": [],
   "source": [
    "import os  # Manipulate Operating System\n",
    "import win32gui, win32ui, win32con, win32clipboard  # Interface with Windows\n",
    "import pandas as pd  # DataFrames\n",
    "import numpy as np  # Array Transformation, Math\n",
    "import warnings  # Ignore Warnings\n",
    "import pyautogui  # Control Mouse and Keyboard\n",
    "import re  # Regular Expressions for String Parsing\n",
    "\n",
    "# Custom WindowCapture Class\n",
    "from windowcapture import WindowCapture\n",
    "\n",
    "# Warnings to Ignore\n",
    "warnings.filterwarnings(\"ignore\", category=UserWarning)\n",
    "\n",
    "# Set to False so mouse cursor can be controlled beyond main screen\n",
    "# Used due to multiple monitor setup\n",
    "pyautogui.FAILSAFE = False\n",
    "\n",
    "# Initialize WindowCapture class with name of NetPlay window\n",
    "wincap = WindowCapture(window_name=\"NetPlay\")\n",
    "screenshot = wincap.get_screenshot()\n"
   ]
  },
  {
   "cell_type": "code",
   "execution_count": 289,
   "metadata": {},
   "outputs": [
    {
     "data": {
      "text/plain": [
       "(582, 723, 3)"
      ]
     },
     "execution_count": 289,
     "metadata": {},
     "output_type": "execute_result"
    }
   ],
   "source": [
    "screenshot.shape"
   ]
  },
  {
   "cell_type": "code",
   "execution_count": 290,
   "metadata": {},
   "outputs": [
    {
     "name": "stdout",
     "output_type": "stream",
     "text": [
      "Player Center: Point(x=383, y=133)\n",
      "Mapping Center: Point(x=555, y=132)\n",
      "Player Center Relative to Window Location on Screen: (-1379, 414)\n",
      "Mapping Center Relative to Window Location on Screen: (-1207, 413)\n"
     ]
    }
   ],
   "source": [
    "player_location = pyautogui.locate(\n",
    "    needleImage=r\"C:\\Users\\Cooper\\cv-mk64\\img\\netplay\\Player.png\",\n",
    "    haystackImage=screenshot,\n",
    ")\n",
    "\n",
    "player_center = pyautogui.center(player_location)\n",
    "\n",
    "mapping_location = pyautogui.locate(\n",
    "    needleImage=r\"C:\\Users\\Cooper\\cv-mk64\\img\\netplay\\Mapping.png\",\n",
    "    haystackImage=screenshot,\n",
    ")\n",
    "\n",
    "mapping_center = pyautogui.center(mapping_location)\n",
    "\n",
    "print(f\"Player Center: {player_center}\")\n",
    "print(f\"Mapping Center: {mapping_center}\")\n",
    "\n",
    "player_screen_center = wincap.get_screen_position(player_center)\n",
    "mapping_screen_center = wincap.get_screen_position(mapping_center)\n",
    "\n",
    "print(f\"Player Center Relative to Window Location on Screen: {player_screen_center}\")\n",
    "print(f\"Mapping Center Relative to Window Location on Screen: {mapping_screen_center}\")\n"
   ]
  },
  {
   "cell_type": "code",
   "execution_count": 291,
   "metadata": {},
   "outputs": [
    {
     "data": {
      "text/plain": [
       "-1379"
      ]
     },
     "execution_count": 291,
     "metadata": {},
     "output_type": "execute_result"
    }
   ],
   "source": [
    "player_screen_center[0]"
   ]
  },
  {
   "cell_type": "code",
   "execution_count": 292,
   "metadata": {},
   "outputs": [],
   "source": [
    "def create_player_frame(\n",
    "    player_location: tuple[int, int],\n",
    "    mapping_location: tuple[int, int],\n",
    "    wincap: WindowCapture,\n",
    ") -> pd.DataFrame:\n",
    "\n",
    "    # Translate Player Location Tuple into X and Y variables\n",
    "    player_x = player_location[0]\n",
    "    player_y = player_location[1]\n",
    "\n",
    "    # Translate Mapping Location Tuple into X and Y variables\n",
    "    mapping_x = mapping_location[0]\n",
    "    mapping_y = mapping_location[1]\n",
    "\n",
    "    # Bring the window to the front with the Window Handle ID\n",
    "    win32gui.SetForegroundWindow(wincap.hwnd)\n",
    "\n",
    "    # Abstraction for pyautogui interaction\n",
    "    # Helper Function to copy selected cell value and paste into variable\n",
    "    def click_helper(x: int, y: int, y_move: int) -> None:\n",
    "        pyautogui.click(x, y)\n",
    "        pyautogui.move(0, y_move)\n",
    "        pyautogui.click()\n",
    "        pyautogui.hotkey(\"ctrl\", \"c\")\n",
    "        \n",
    "    def copy_paste() -> str:\n",
    "        win32clipboard.OpenClipboard()\n",
    "        data = win32clipboard.GetClipboardData()\n",
    "        win32clipboard.EmptyClipboard()\n",
    "        win32clipboard.CloseClipboard()\n",
    "        \n",
    "        return data\n",
    "\n",
    "    # Copy Player Data from NetPlay Window\n",
    "    click_helper(x=player_x, y=player_y, y_move=25)\n",
    "    player_one = copy_paste()\n",
    "\n",
    "    click_helper(x=player_x, y=player_y, y_move=55)\n",
    "    player_two = copy_paste()\n",
    "\n",
    "    click_helper(x=player_x, y=player_y, y_move=85)\n",
    "    player_three = copy_paste()\n",
    "\n",
    "    click_helper(x=player_x, y=player_y, y_move=120)\n",
    "    player_four = copy_paste()\n",
    "\n",
    "    # Copy Controller Mapping (Port) Data from NetPlay Window\n",
    "    click_helper(x=mapping_x, y=mapping_y, y_move=25)\n",
    "    mapping_one = copy_paste()\n",
    "\n",
    "    click_helper(x=mapping_x, y=mapping_y, y_move=55)\n",
    "    mapping_two = copy_paste()\n",
    "\n",
    "    click_helper(x=mapping_x, y=mapping_y, y_move=85)\n",
    "    mapping_three = copy_paste()\n",
    "\n",
    "    click_helper(x=mapping_x, y=mapping_y, y_move=120)\n",
    "    mapping_four = copy_paste()\n",
    "\n",
    "    # Insert Values into Pandas DataFrame\n",
    "    df = pd.DataFrame(\n",
    "        data={\n",
    "            \"Player\": [player_one, player_two, player_three, player_four],\n",
    "            \"Port\": [mapping_one, mapping_two, mapping_three, mapping_four],\n",
    "        }\n",
    "    )\n",
    "\n",
    "    # Remove rows with duplicated Player values\n",
    "    df = df.drop_duplicates(subset=\"Player\", keep=\"first\")\n",
    "\n",
    "    # Cast string to Capitalization (string -> String | STRING -> String)\n",
    "    df[\"Player\"] = df[\"Player\"].str.capitalize()\n",
    "\n",
    "    df[\"Port\"]\n",
    "\n",
    "    return df\n"
   ]
  },
  {
   "cell_type": "code",
   "execution_count": null,
   "metadata": {},
   "outputs": [],
   "source": [
    "df = create_player_frame(\n",
    "    player_location=player_screen_center,\n",
    "    mapping_location=mapping_screen_center,\n",
    "    wincap=wincap,\n",
    ")\n",
    "\n",
    "df = df.replace(\"None\", np.nan)"
   ]
  },
  {
   "cell_type": "code",
   "execution_count": 294,
   "metadata": {},
   "outputs": [
    {
     "data": {
      "text/html": [
       "<div>\n",
       "<style scoped>\n",
       "    .dataframe tbody tr th:only-of-type {\n",
       "        vertical-align: middle;\n",
       "    }\n",
       "\n",
       "    .dataframe tbody tr th {\n",
       "        vertical-align: top;\n",
       "    }\n",
       "\n",
       "    .dataframe thead th {\n",
       "        text-align: right;\n",
       "    }\n",
       "</style>\n",
       "<table border=\"1\" class=\"dataframe\">\n",
       "  <thead>\n",
       "    <tr style=\"text-align: right;\">\n",
       "      <th></th>\n",
       "      <th>Player</th>\n",
       "      <th>Port</th>\n",
       "    </tr>\n",
       "  </thead>\n",
       "  <tbody>\n",
       "    <tr>\n",
       "      <th>0</th>\n",
       "      <td>Cooper</td>\n",
       "      <td>GC1,2</td>\n",
       "    </tr>\n",
       "    <tr>\n",
       "      <th>1</th>\n",
       "      <td>Blake</td>\n",
       "      <td>GC3</td>\n",
       "    </tr>\n",
       "    <tr>\n",
       "      <th>2</th>\n",
       "      <td>Connor</td>\n",
       "      <td>GC4</td>\n",
       "    </tr>\n",
       "    <tr>\n",
       "      <th>3</th>\n",
       "      <td>Cole</td>\n",
       "      <td>NaN</td>\n",
       "    </tr>\n",
       "  </tbody>\n",
       "</table>\n",
       "</div>"
      ],
      "text/plain": [
       "   Player   Port\n",
       "0  Cooper  GC1,2\n",
       "1   Blake    GC3\n",
       "2  Connor    GC4\n",
       "3    Cole    NaN"
      ]
     },
     "execution_count": 294,
     "metadata": {},
     "output_type": "execute_result"
    }
   ],
   "source": [
    "df"
   ]
  },
  {
   "cell_type": "code",
   "execution_count": 22,
   "metadata": {},
   "outputs": [
    {
     "data": {
      "text/html": [
       "<div>\n",
       "<style scoped>\n",
       "    .dataframe tbody tr th:only-of-type {\n",
       "        vertical-align: middle;\n",
       "    }\n",
       "\n",
       "    .dataframe tbody tr th {\n",
       "        vertical-align: top;\n",
       "    }\n",
       "\n",
       "    .dataframe thead th {\n",
       "        text-align: right;\n",
       "    }\n",
       "</style>\n",
       "<table border=\"1\" class=\"dataframe\">\n",
       "  <thead>\n",
       "    <tr style=\"text-align: right;\">\n",
       "      <th></th>\n",
       "      <th>Player</th>\n",
       "      <th>Port</th>\n",
       "    </tr>\n",
       "  </thead>\n",
       "  <tbody>\n",
       "    <tr>\n",
       "      <th>0</th>\n",
       "      <td>Cooper</td>\n",
       "      <td>GC1,2</td>\n",
       "    </tr>\n",
       "    <tr>\n",
       "      <th>1</th>\n",
       "      <td>Blake</td>\n",
       "      <td>GC3</td>\n",
       "    </tr>\n",
       "    <tr>\n",
       "      <th>2</th>\n",
       "      <td>Connor</td>\n",
       "      <td>GC4</td>\n",
       "    </tr>\n",
       "  </tbody>\n",
       "</table>\n",
       "</div>"
      ],
      "text/plain": [
       "   Player   Port\n",
       "0  Cooper  GC1,2\n",
       "1   Blake    GC3\n",
       "2  Connor    GC4"
      ]
     },
     "execution_count": 22,
     "metadata": {},
     "output_type": "execute_result"
    }
   ],
   "source": [
    "# Read Testing DataFrame\n",
    "\n",
    "df = (\n",
    "    pd.read_csv(r\"C:\\Users\\Cooper\\cv-mk64\\img\\netplay\\netplay_test.csv\")\n",
    "    .drop(columns=\"Unnamed: 0\")\n",
    "    .dropna(axis=0, how=\"any\")\n",
    ")\n",
    "\n",
    "df\n"
   ]
  },
  {
   "cell_type": "code",
   "execution_count": 23,
   "metadata": {},
   "outputs": [],
   "source": [
    "df[\"Port\"] = df[\"Port\"].replace(\"[a-zA-Z,]\", \"\", regex=True)\n"
   ]
  },
  {
   "cell_type": "code",
   "execution_count": 24,
   "metadata": {},
   "outputs": [
    {
     "data": {
      "text/html": [
       "<div>\n",
       "<style scoped>\n",
       "    .dataframe tbody tr th:only-of-type {\n",
       "        vertical-align: middle;\n",
       "    }\n",
       "\n",
       "    .dataframe tbody tr th {\n",
       "        vertical-align: top;\n",
       "    }\n",
       "\n",
       "    .dataframe thead th {\n",
       "        text-align: right;\n",
       "    }\n",
       "</style>\n",
       "<table border=\"1\" class=\"dataframe\">\n",
       "  <thead>\n",
       "    <tr style=\"text-align: right;\">\n",
       "      <th></th>\n",
       "      <th>Player</th>\n",
       "      <th>Port</th>\n",
       "    </tr>\n",
       "  </thead>\n",
       "  <tbody>\n",
       "    <tr>\n",
       "      <th>0</th>\n",
       "      <td>Cooper</td>\n",
       "      <td>12</td>\n",
       "    </tr>\n",
       "    <tr>\n",
       "      <th>1</th>\n",
       "      <td>Blake</td>\n",
       "      <td>3</td>\n",
       "    </tr>\n",
       "    <tr>\n",
       "      <th>2</th>\n",
       "      <td>Connor</td>\n",
       "      <td>4</td>\n",
       "    </tr>\n",
       "  </tbody>\n",
       "</table>\n",
       "</div>"
      ],
      "text/plain": [
       "   Player Port\n",
       "0  Cooper   12\n",
       "1   Blake    3\n",
       "2  Connor    4"
      ]
     },
     "execution_count": 24,
     "metadata": {},
     "output_type": "execute_result"
    }
   ],
   "source": [
    "df"
   ]
  },
  {
   "cell_type": "code",
   "execution_count": 29,
   "metadata": {},
   "outputs": [],
   "source": [
    "def validate_multiport_player(df: pd.DataFrame) -> pd.DataFrame:\n",
    "    for idx, i in enumerate(df[\"Port\"]):\n",
    "\n",
    "        # Multiport Player has two ports\n",
    "        if len(i) == 2:\n",
    "            # Ports are not necessarily [1, 2] could be [2, 3] etc.\n",
    "            # Index into the string below\n",
    "            port_x = i[0]\n",
    "            port_y = i[1]\n",
    "\n",
    "            # Prompt user with multiple assigned ports for input\n",
    "            player_x = input(f\"Input Player on Port {port_x}: \")\n",
    "            player_y = input(f\"Input Player on Port {port_y}: \")\n",
    "\n",
    "            # Drop original row for user with multiple ports using enum index\n",
    "            odf = df.drop(idx)\n",
    "\n",
    "            # Create temporary DataFrame with data received from input variables\n",
    "            # Prompt specifies port, if data is not correct downstream data will be mismatched\n",
    "            tdf = pd.DataFrame(\n",
    "                data={\"Player\": [player_x, player_y], \"Port\": [port_x, port_y]}\n",
    "            )\n",
    "\n",
    "            # Combine the original and temporary DataFrame\n",
    "            cdf = pd.concat(objs=[tdf, odf])\n",
    "\n",
    "            # Cast Port values to int\n",
    "            cdf[\"Port\"] = cdf[\"Port\"].astype(int)\n",
    "\n",
    "            # Sort and reset the index\n",
    "            cdf = cdf.sort_values(by=\"Port\", ascending=True).reset_index(drop=True)\n",
    "\n",
    "        elif len(i) == 3:\n",
    "\n",
    "            # Ports are not necessarily [1, 2, 3] could be [2, 3, 4] etc.\n",
    "            # Index into the string below\n",
    "            port_x = i[0]\n",
    "            port_y = i[1]\n",
    "            port_z = i[2]\n",
    "\n",
    "            # Prompt user with multiple assigned ports input\n",
    "            player_x = input(f\"Input Player on Port {port_x}: \")\n",
    "            player_y = input(f\"Input Player on Port {port_y}: \")\n",
    "            player_z = input(f\"Input Player on Port {port_z}: \")\n",
    "\n",
    "            # Drop original row for user with multiple ports using enum index\n",
    "            odf = df.drop(idx)\n",
    "\n",
    "            # Create temporary DataFrame with data received from input variables\n",
    "            # Prompt specifies port, if data is not correct downstream data will be mismatched\n",
    "            tdf = pd.DataFrame(\n",
    "                data={\n",
    "                    \"Player\": [player_x, player_y, player_z],\n",
    "                    \"Port\": [port_x, port_y, port_z],\n",
    "                }\n",
    "            )\n",
    "\n",
    "            # Combine the original and temporary DataFrame\n",
    "            cdf = pd.concat(objs=[tdf, odf])\n",
    "\n",
    "            # Cast Port values to int\n",
    "            cdf[\"Port\"] = cdf[\"Port\"].astype(int)\n",
    "\n",
    "            # Sort and reset the index\n",
    "            cdf = cdf.sort_values(by=\"Port\", ascending=True).reset_index(drop=True)\n",
    "\n",
    "        else:\n",
    "            pass\n",
    "    \n",
    "    return cdf"
   ]
  },
  {
   "cell_type": "code",
   "execution_count": 30,
   "metadata": {},
   "outputs": [],
   "source": [
    "player_df = validate_multiport_player(df=df)"
   ]
  },
  {
   "cell_type": "code",
   "execution_count": 31,
   "metadata": {},
   "outputs": [
    {
     "data": {
      "text/html": [
       "<div>\n",
       "<style scoped>\n",
       "    .dataframe tbody tr th:only-of-type {\n",
       "        vertical-align: middle;\n",
       "    }\n",
       "\n",
       "    .dataframe tbody tr th {\n",
       "        vertical-align: top;\n",
       "    }\n",
       "\n",
       "    .dataframe thead th {\n",
       "        text-align: right;\n",
       "    }\n",
       "</style>\n",
       "<table border=\"1\" class=\"dataframe\">\n",
       "  <thead>\n",
       "    <tr style=\"text-align: right;\">\n",
       "      <th></th>\n",
       "      <th>Player</th>\n",
       "      <th>Port</th>\n",
       "    </tr>\n",
       "  </thead>\n",
       "  <tbody>\n",
       "    <tr>\n",
       "      <th>0</th>\n",
       "      <td>Cooper</td>\n",
       "      <td>1</td>\n",
       "    </tr>\n",
       "    <tr>\n",
       "      <th>1</th>\n",
       "      <td>Matt</td>\n",
       "      <td>2</td>\n",
       "    </tr>\n",
       "    <tr>\n",
       "      <th>2</th>\n",
       "      <td>Blake</td>\n",
       "      <td>3</td>\n",
       "    </tr>\n",
       "    <tr>\n",
       "      <th>3</th>\n",
       "      <td>Connor</td>\n",
       "      <td>4</td>\n",
       "    </tr>\n",
       "  </tbody>\n",
       "</table>\n",
       "</div>"
      ],
      "text/plain": [
       "   Player  Port\n",
       "0  Cooper     1\n",
       "1    Matt     2\n",
       "2   Blake     3\n",
       "3  Connor     4"
      ]
     },
     "execution_count": 31,
     "metadata": {},
     "output_type": "execute_result"
    }
   ],
   "source": [
    "player_df"
   ]
  }
 ],
 "metadata": {
  "kernelspec": {
   "display_name": "mkcode",
   "language": "python",
   "name": "python3"
  },
  "language_info": {
   "codemirror_mode": {
    "name": "ipython",
    "version": 3
   },
   "file_extension": ".py",
   "mimetype": "text/x-python",
   "name": "python",
   "nbconvert_exporter": "python",
   "pygments_lexer": "ipython3",
   "version": "3.10.4"
  },
  "orig_nbformat": 4,
  "vscode": {
   "interpreter": {
    "hash": "aecd85e568ac1d1fb8e677d72b8b9dd6e59f1e0f47203141c14a0b68f12c32a4"
   }
  }
 },
 "nbformat": 4,
 "nbformat_minor": 2
}
