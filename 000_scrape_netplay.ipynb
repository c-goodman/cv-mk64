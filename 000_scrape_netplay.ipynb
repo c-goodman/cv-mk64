{
 "cells": [
  {
   "cell_type": "code",
   "execution_count": 153,
   "metadata": {},
   "outputs": [],
   "source": [
    "import os  # Manipulate Operating System\n",
    "import win32gui, win32ui, win32con, win32clipboard  # Interface with Windows\n",
    "import pandas as pd  # DataFrames\n",
    "import numpy as np  # Array Transformation, Math\n",
    "import warnings  # Ignore Warnings\n",
    "import pyautogui  # Control Mouse and Keyboard\n",
    "\n",
    "# Custom WindowCapture Class\n",
    "from windowcapture import WindowCapture\n",
    "\n",
    "# Warnings to Ignore\n",
    "warnings.filterwarnings(\"ignore\", category=UserWarning)\n",
    "\n",
    "# Set to False so mouse cursor can be controlled beyond main screen\n",
    "# Used due to multiple monitor setup\n",
    "pyautogui.FAILSAFE = False\n",
    "\n",
    "# Initialize WindowCapture class with name of NetPlay window\n",
    "wincap = WindowCapture(window_name=\"NetPlay\")\n",
    "screenshot = wincap.get_screenshot()\n"
   ]
  },
  {
   "cell_type": "code",
   "execution_count": 154,
   "metadata": {},
   "outputs": [
    {
     "data": {
      "text/plain": [
       "(582, 723, 3)"
      ]
     },
     "execution_count": 154,
     "metadata": {},
     "output_type": "execute_result"
    }
   ],
   "source": [
    "screenshot.shape"
   ]
  },
  {
   "cell_type": "code",
   "execution_count": 155,
   "metadata": {},
   "outputs": [
    {
     "name": "stdout",
     "output_type": "stream",
     "text": [
      "Player Center: Point(x=383, y=133)\n",
      "Mapping Center: Point(x=555, y=132)\n",
      "Player Center Relative to Window Location on Screen: (-1396, 422)\n",
      "Mapping Center Relative to Window Location on Screen: (-1224, 421)\n"
     ]
    }
   ],
   "source": [
    "player_location = pyautogui.locate(\n",
    "    needleImage=r\"C:\\Users\\Cooper\\cv-mk64\\img\\netplay\\Player.png\",\n",
    "    haystackImage=screenshot,\n",
    ")\n",
    "\n",
    "player_center = pyautogui.center(player_location)\n",
    "\n",
    "mapping_location = pyautogui.locate(\n",
    "    needleImage=r\"C:\\Users\\Cooper\\cv-mk64\\img\\netplay\\Mapping.png\",\n",
    "    haystackImage=screenshot,\n",
    ")\n",
    "\n",
    "mapping_center = pyautogui.center(mapping_location)\n",
    "\n",
    "print(f\"Player Center: {player_center}\")\n",
    "print(f\"Mapping Center: {mapping_center}\")\n",
    "\n",
    "player_screen_center = wincap.get_screen_position(player_center)\n",
    "mapping_screen_center = wincap.get_screen_position(mapping_center)\n",
    "\n",
    "print(f\"Player Center Relative to Window Location on Screen: {player_screen_center}\")\n",
    "print(f\"Mapping Center Relative to Window Location on Screen: {mapping_screen_center}\")\n"
   ]
  },
  {
   "cell_type": "code",
   "execution_count": 156,
   "metadata": {},
   "outputs": [],
   "source": []
  },
  {
   "cell_type": "code",
   "execution_count": 99,
   "metadata": {},
   "outputs": [
    {
     "data": {
      "text/plain": [
       "-1366"
      ]
     },
     "execution_count": 99,
     "metadata": {},
     "output_type": "execute_result"
    }
   ],
   "source": [
    "player_screen_center[0]"
   ]
  },
  {
   "cell_type": "code",
   "execution_count": 171,
   "metadata": {},
   "outputs": [],
   "source": [
    "def create_player_frame(\n",
    "    player_location: tuple[int, int],\n",
    "    mapping_location: tuple[int, int],\n",
    "    wincap: WindowCapture,\n",
    ") -> pd.DataFrame:\n",
    "\n",
    "    # Translate Player Location Tuple into X and Y variables\n",
    "    player_x = player_location[0]\n",
    "    player_y = player_location[1]\n",
    "\n",
    "    # Translate Mapping Location Tuple into X and Y variables\n",
    "    mapping_x = mapping_location[0]\n",
    "    mapping_y = mapping_location[1]\n",
    "\n",
    "    # Bring the window to the front with the Window Handle ID\n",
    "    win32gui.SetForegroundWindow(wincap.hwnd)\n",
    "\n",
    "    # Abstraction for pyautogui interaction\n",
    "    # Helper Function to copy selected cell value and paste into variable\n",
    "    def click_helper(x: int, y: int, y_move: int) -> None:\n",
    "        pyautogui.click(x, y)\n",
    "        pyautogui.move(0, y_move)\n",
    "        pyautogui.click()\n",
    "        pyautogui.hotkey(\"ctrl\", \"c\")\n",
    "        \n",
    "    def copy_paste() -> str:\n",
    "        win32clipboard.OpenClipboard()\n",
    "        data = win32clipboard.GetClipboardData()\n",
    "        win32clipboard.EmptyClipboard()\n",
    "        win32clipboard.CloseClipboard()\n",
    "        \n",
    "        return data\n",
    "\n",
    "    # Copy Player Data from NetPlay Window\n",
    "    click_helper(x=player_x, y=player_y, y_move=25)\n",
    "    player_one = copy_paste()\n",
    "\n",
    "    click_helper(x=player_x, y=player_y, y_move=50)\n",
    "    player_two = copy_paste()\n",
    "\n",
    "    click_helper(x=player_x, y=player_y, y_move=75)\n",
    "    player_three = copy_paste()\n",
    "\n",
    "    click_helper(x=player_x, y=player_y, y_move=100)\n",
    "    player_four = copy_paste()\n",
    "\n",
    "    # Copy Controller Mapping (Port) Data from NetPlay Window\n",
    "    click_helper(x=mapping_x, y=mapping_y, y_move=25)\n",
    "    mapping_one = copy_paste()\n",
    "\n",
    "    click_helper(x=mapping_x, y=mapping_y, y_move=50)\n",
    "    mapping_two = copy_paste()\n",
    "\n",
    "    click_helper(x=mapping_x, y=mapping_y, y_move=75)\n",
    "    mapping_three = copy_paste()\n",
    "\n",
    "    click_helper(x=mapping_x, y=mapping_y, y_move=100)\n",
    "    mapping_four = copy_paste()\n",
    "\n",
    "    # Insert Values into Pandas DataFrame\n",
    "    df = pd.DataFrame(\n",
    "        data={\n",
    "            \"Player\": [player_one, player_two, player_three, player_four],\n",
    "            \"Port\": [mapping_one, mapping_two, mapping_three, mapping_four],\n",
    "        }\n",
    "    )\n",
    "\n",
    "    df = df.drop_duplicates(subset=\"Player\", keep=\"first\")\n",
    "\n",
    "    return df\n"
   ]
  },
  {
   "cell_type": "code",
   "execution_count": 172,
   "metadata": {},
   "outputs": [],
   "source": [
    "df = create_player_frame(\n",
    "    player_location=player_screen_center,\n",
    "    mapping_location=mapping_screen_center,\n",
    "    wincap=wincap,\n",
    ")"
   ]
  },
  {
   "cell_type": "code",
   "execution_count": 173,
   "metadata": {},
   "outputs": [
    {
     "data": {
      "text/html": [
       "<div>\n",
       "<style scoped>\n",
       "    .dataframe tbody tr th:only-of-type {\n",
       "        vertical-align: middle;\n",
       "    }\n",
       "\n",
       "    .dataframe tbody tr th {\n",
       "        vertical-align: top;\n",
       "    }\n",
       "\n",
       "    .dataframe thead th {\n",
       "        text-align: right;\n",
       "    }\n",
       "</style>\n",
       "<table border=\"1\" class=\"dataframe\">\n",
       "  <thead>\n",
       "    <tr style=\"text-align: right;\">\n",
       "      <th></th>\n",
       "      <th>Player</th>\n",
       "      <th>Port</th>\n",
       "    </tr>\n",
       "  </thead>\n",
       "  <tbody>\n",
       "    <tr>\n",
       "      <th>0</th>\n",
       "      <td>COOPER</td>\n",
       "      <td>GC1,2</td>\n",
       "    </tr>\n",
       "  </tbody>\n",
       "</table>\n",
       "</div>"
      ],
      "text/plain": [
       "   Player   Port\n",
       "0  COOPER  GC1,2"
      ]
     },
     "execution_count": 173,
     "metadata": {},
     "output_type": "execute_result"
    }
   ],
   "source": [
    "df"
   ]
  }
 ],
 "metadata": {
  "kernelspec": {
   "display_name": "mkcode",
   "language": "python",
   "name": "python3"
  },
  "language_info": {
   "codemirror_mode": {
    "name": "ipython",
    "version": 3
   },
   "file_extension": ".py",
   "mimetype": "text/x-python",
   "name": "python",
   "nbconvert_exporter": "python",
   "pygments_lexer": "ipython3",
   "version": "3.10.4"
  },
  "orig_nbformat": 4,
  "vscode": {
   "interpreter": {
    "hash": "aecd85e568ac1d1fb8e677d72b8b9dd6e59f1e0f47203141c14a0b68f12c32a4"
   }
  }
 },
 "nbformat": 4,
 "nbformat_minor": 2
}
