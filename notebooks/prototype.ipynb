{
 "cells": [
  {
   "cell_type": "code",
   "execution_count": 1,
   "id": "976f96cc",
   "metadata": {},
   "outputs": [],
   "source": [
    "import cv2"
   ]
  },
  {
   "cell_type": "code",
   "execution_count": 27,
   "id": "77c91cf8",
   "metadata": {},
   "outputs": [],
   "source": [
    "img = cv2.imread('C:/Users/Cooper/cv-mk64/notebooks/test-img/netplay-test.jpg')"
   ]
  },
  {
   "cell_type": "code",
   "execution_count": 29,
   "id": "987b0de9",
   "metadata": {},
   "outputs": [
    {
     "data": {
      "text/plain": [
       "array([[[101, 110, 107],\n",
       "        [249, 255, 253],\n",
       "        [253, 255, 255],\n",
       "        ...,\n",
       "        [255, 255, 255],\n",
       "        [255, 255, 255],\n",
       "        [255, 255, 255]],\n",
       "\n",
       "       [[103, 110, 107],\n",
       "        [250, 255, 253],\n",
       "        [253, 255, 255],\n",
       "        ...,\n",
       "        [255, 255, 255],\n",
       "        [255, 255, 255],\n",
       "        [255, 255, 255]],\n",
       "\n",
       "       [[104, 109, 108],\n",
       "        [252, 254, 254],\n",
       "        [255, 255, 255],\n",
       "        ...,\n",
       "        [255, 255, 255],\n",
       "        [255, 255, 255],\n",
       "        [255, 255, 255]],\n",
       "\n",
       "       ...,\n",
       "\n",
       "       [[ 64,  63,  42],\n",
       "        [245, 245, 227],\n",
       "        [246, 243, 235],\n",
       "        ...,\n",
       "        [240, 240, 240],\n",
       "        [240, 240, 240],\n",
       "        [240, 240, 240]],\n",
       "\n",
       "       [[ 64,  63,  42],\n",
       "        [245, 245, 227],\n",
       "        [246, 243, 235],\n",
       "        ...,\n",
       "        [240, 240, 240],\n",
       "        [240, 240, 240],\n",
       "        [240, 240, 240]],\n",
       "\n",
       "       [[ 64,  63,  42],\n",
       "        [245, 245, 227],\n",
       "        [246, 243, 235],\n",
       "        ...,\n",
       "        [240, 240, 240],\n",
       "        [240, 240, 240],\n",
       "        [240, 240, 240]]], dtype=uint8)"
      ]
     },
     "execution_count": 29,
     "metadata": {},
     "output_type": "execute_result"
    }
   ],
   "source": [
    "img"
   ]
  },
  {
   "cell_type": "code",
   "execution_count": null,
   "id": "934d2d78",
   "metadata": {},
   "outputs": [],
   "source": []
  }
 ],
 "metadata": {
  "kernelspec": {
   "display_name": "Python 3 (ipykernel)",
   "language": "python",
   "name": "python3"
  },
  "language_info": {
   "codemirror_mode": {
    "name": "ipython",
    "version": 3
   },
   "file_extension": ".py",
   "mimetype": "text/x-python",
   "name": "python",
   "nbconvert_exporter": "python",
   "pygments_lexer": "ipython3",
   "version": "3.9.6"
  }
 },
 "nbformat": 4,
 "nbformat_minor": 5
}
